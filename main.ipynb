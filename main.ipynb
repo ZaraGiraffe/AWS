{
 "cells": [
  {
   "cell_type": "code",
   "execution_count": 2,
   "id": "9914131b-144d-4235-ae10-9a197f1ab97d",
   "metadata": {
    "tags": []
   },
   "outputs": [
    {
     "name": "stdout",
     "output_type": "stream",
     "text": [
      "Collecting package metadata (current_repodata.json): done\n",
      "Solving environment: done\n",
      "\n",
      "\n",
      "==> WARNING: A newer version of conda exists. <==\n",
      "  current version: 4.10.3\n",
      "  latest version: 23.10.0\n",
      "\n",
      "Please update conda by running\n",
      "\n",
      "    $ conda update -n base conda\n",
      "\n",
      "\n",
      "\n",
      "## Package Plan ##\n",
      "\n",
      "  environment location: /home/studio-lab-user/.conda/envs/default\n",
      "\n",
      "  added / updated specs:\n",
      "    - numpy\n",
      "\n",
      "\n",
      "The following packages will be downloaded:\n",
      "\n",
      "    package                    |            build\n",
      "    ---------------------------|-----------------\n",
      "    ca-certificates-2023.11.17 |       hbcca054_0         151 KB  conda-forge\n",
      "    certifi-2023.11.17         |     pyhd8ed1ab_0         155 KB  conda-forge\n",
      "    libblas-3.9.0              |20_linux64_openblas          14 KB  conda-forge\n",
      "    libcblas-3.9.0             |20_linux64_openblas          14 KB  conda-forge\n",
      "    libgfortran-ng-13.2.0      |       h69a702a_0          23 KB  conda-forge\n",
      "    libgfortran5-13.2.0        |       ha4646dd_0         1.4 MB  conda-forge\n",
      "    liblapack-3.9.0            |20_linux64_openblas          14 KB  conda-forge\n",
      "    libopenblas-0.3.25         |pthreads_h413a1c8_0         5.3 MB  conda-forge\n",
      "    numpy-1.26.0               |   py39h474f0d3_0         6.5 MB  conda-forge\n",
      "    openssl-3.1.4              |       hd590300_0         2.5 MB  conda-forge\n",
      "    ------------------------------------------------------------\n",
      "                                           Total:        16.1 MB\n",
      "\n",
      "The following NEW packages will be INSTALLED:\n",
      "\n",
      "  libblas            conda-forge/linux-64::libblas-3.9.0-20_linux64_openblas\n",
      "  libcblas           conda-forge/linux-64::libcblas-3.9.0-20_linux64_openblas\n",
      "  libgfortran-ng     conda-forge/linux-64::libgfortran-ng-13.2.0-h69a702a_0\n",
      "  libgfortran5       conda-forge/linux-64::libgfortran5-13.2.0-ha4646dd_0\n",
      "  liblapack          conda-forge/linux-64::liblapack-3.9.0-20_linux64_openblas\n",
      "  libopenblas        conda-forge/linux-64::libopenblas-0.3.25-pthreads_h413a1c8_0\n",
      "  numpy              conda-forge/linux-64::numpy-1.26.0-py39h474f0d3_0\n",
      "\n",
      "The following packages will be UPDATED:\n",
      "\n",
      "  ca-certificates                      2023.7.22-hbcca054_0 --> 2023.11.17-hbcca054_0\n",
      "  certifi                            2023.7.22-pyhd8ed1ab_0 --> 2023.11.17-pyhd8ed1ab_0\n",
      "  openssl                                  3.1.2-hd590300_0 --> 3.1.4-hd590300_0\n",
      "\n",
      "\n",
      "\n",
      "Downloading and Extracting Packages\n",
      "libgfortran5-13.2.0  | 1.4 MB    | ##################################### | 100% \n",
      "liblapack-3.9.0      | 14 KB     | ##################################### | 100% \n",
      "libblas-3.9.0        | 14 KB     | ##################################### | 100% \n",
      "ca-certificates-2023 | 151 KB    | ##################################### | 100% \n",
      "numpy-1.26.0         | 6.5 MB    | ##################################### | 100% \n",
      "libgfortran-ng-13.2. | 23 KB     | ##################################### | 100% \n",
      "libcblas-3.9.0       | 14 KB     | ##################################### | 100% \n",
      "certifi-2023.11.17   | 155 KB    | ##################################### | 100% \n",
      "libopenblas-0.3.25   | 5.3 MB    | ##################################### | 100% \n",
      "openssl-3.1.4        | 2.5 MB    | ##################################### | 100% \n",
      "Preparing transaction: done\n",
      "Verifying transaction: done\n",
      "Executing transaction: done\n",
      "\n",
      "Note: you may need to restart the kernel to use updated packages.\n"
     ]
    }
   ],
   "source": [
    "conda install numpy"
   ]
  },
  {
   "cell_type": "code",
   "execution_count": 3,
   "id": "079b8571-9446-4804-b0ae-36784f1018da",
   "metadata": {
    "tags": []
   },
   "outputs": [],
   "source": [
    "import numpy as np"
   ]
  },
  {
   "cell_type": "code",
   "execution_count": null,
   "id": "94f220b0-38c7-4a1c-a005-301765569bfb",
   "metadata": {},
   "outputs": [],
   "source": []
  }
 ],
 "metadata": {
  "kernelspec": {
   "display_name": "default:Python",
   "language": "python",
   "name": "conda-env-default-py"
  },
  "language_info": {
   "codemirror_mode": {
    "name": "ipython",
    "version": 3
   },
   "file_extension": ".py",
   "mimetype": "text/x-python",
   "name": "python",
   "nbconvert_exporter": "python",
   "pygments_lexer": "ipython3",
   "version": "3.9.16"
  }
 },
 "nbformat": 4,
 "nbformat_minor": 5
}
